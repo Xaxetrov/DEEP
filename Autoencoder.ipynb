{
 "cells": [
  {
   "cell_type": "code",
   "execution_count": 228,
   "metadata": {},
   "outputs": [],
   "source": [
    "import random\n",
    "\n",
    "from keras.layers import *\n",
    "from keras.losses import cosine_proximity, categorical_crossentropy, mean_squared_error\n",
    "from keras.models import Model\n",
    "from keras import backend as K\n",
    "from keras.utils import to_categorical\n",
    "import tensorflow as tf\n",
    "from acquisition import get_trainset_list, prep_data"
   ]
  },
  {
   "cell_type": "code",
   "execution_count": 229,
   "metadata": {},
   "outputs": [],
   "source": [
    "# Custom loss layer\n",
    "class CustomDistanceLossLayer(Layer):\n",
    "    def __init__(self, **kwargs):\n",
    "        self.is_placeholder = True\n",
    "        super(CustomDistanceLossLayer, self).__init__(**kwargs)\n",
    "\n",
    "    def distance_loss(self, anchor, positive, negative):\n",
    "        loss = cosine_proximity(anchor, positive) - cosine_proximity(anchor, negative) # environ 10 max next time increase factor value\n",
    "        return K.mean(loss, axis=-1) / 10\n",
    "\n",
    "    def call(self, inputs):\n",
    "        x = inputs[0]\n",
    "        positive = inputs[1]\n",
    "        negative = inputs[2]\n",
    "        loss = self.distance_loss(x, positive, negative)\n",
    "        self.add_loss(loss, inputs=inputs)\n",
    "        return x"
   ]
  },
  {
   "cell_type": "code",
   "execution_count": 230,
   "metadata": {},
   "outputs": [],
   "source": [
    "# Custom loss layer\n",
    "class CustomFinalLossLayer(Layer):\n",
    "    def __init__(self, **kwargs):\n",
    "        self.is_placeholder = True\n",
    "        super(CustomFinalLossLayer, self).__init__(**kwargs)\n",
    "\n",
    "    def final_loss(self, image, label, image_decoded, label_predicted):\n",
    "        # environ 15 max\n",
    "        loss = (K.mean(categorical_crossentropy(label, label_predicted), axis=-1) / 15) \\\n",
    "             + (K.mean(mean_squared_error(image, image_decoded), axis=-1) / 20000) # environ 20000 max\n",
    "        return loss\n",
    "\n",
    "    def call(self, inputs):\n",
    "        image = inputs[0]\n",
    "        label = inputs[1]\n",
    "        image_decoded = inputs[2]\n",
    "        label_predicted = inputs[3]\n",
    "        loss = self.final_loss(image, label, image_decoded, label_predicted)\n",
    "        self.add_loss(loss, inputs=inputs)\n",
    "        # We won't actually use the output.\n",
    "        return label_predicted"
   ]
  },
  {
   "cell_type": "code",
   "execution_count": 231,
   "metadata": {},
   "outputs": [],
   "source": [
    "pool_func = MaxPooling2D(pool_size=(2, 2), strides=None, padding=\"same\")\n",
    "\n",
    "conv_1_func = Conv2D(filters=4, kernel_size=(5, 5), strides=1, padding=\"same\", activation=\"relu\")\n",
    "conv_2_func = Conv2D(filters=2, kernel_size=(3, 3), strides=1, padding=\"same\", activation=\"relu\")\n",
    "fully_connected = Dense(2, activation=\"softmax\")\n",
    "\n",
    "input_layer = Input(shape=(36, 36, 1))\n",
    "conv_1 = conv_1_func(input_layer)\n",
    "pool_1 = pool_func(conv_1)\n",
    "conv_2 = conv_2_func(pool_1)\n",
    "pool_2 = pool_func(conv_2)\n",
    "to_be_densed = Flatten()(pool_2)\n",
    "\n",
    "encoder = Model(input_layer, to_be_densed, name='encoder')\n",
    "\n",
    "anchor = Input(shape=(36, 36, 1))\n",
    "positive = Input(shape=(36, 36, 1))\n",
    "negative = Input(shape=(36, 36, 1))\n",
    "labels = Input(shape=(2,))\n",
    "\n",
    "cosine_loss = CustomDistanceLossLayer()([encoder(anchor), encoder(positive), encoder(negative)])\n",
    "\n",
    "upsample = UpSampling2D()\n",
    "\n",
    "\n",
    "conv_3_func = Conv2D(filters=2, kernel_size=(3, 3), strides=1, padding=\"same\", activation=\"relu\")\n",
    "reshaping = Reshape((9, 9, 2))\n",
    "conv_4_func = Conv2D(filters=2, kernel_size=(3, 3), strides=1, padding=\"same\", activation=\"relu\")\n",
    "conv_5_func = Conv2D(filters=1, kernel_size=(5, 5), strides=1, padding=\"same\", activation=\"relu\")\n",
    "\n",
    "input_decoder = Input((162,))\n",
    "reshaped = reshaping(input_decoder)\n",
    "conv_3 = conv_3_func(reshaped)\n",
    "up_1 = upsample(conv_3)\n",
    "conv_4 = conv_4_func(up_1)\n",
    "up_2 = upsample(conv_4)\n",
    "output_decoder = conv_5_func(up_2)\n",
    "\n",
    "decoder = Model(input_decoder, output_decoder, name='decoder')\n",
    "\n",
    "autoencoder_output = decoder(cosine_loss)\n",
    "\n",
    "output_categorical_layer = fully_connected(cosine_loss)\n",
    "\n",
    "output = CustomFinalLossLayer()([anchor, labels, autoencoder_output, output_categorical_layer])\n",
    "model = Model([anchor, positive, negative, labels], [output], name='full network')"
   ]
  },
  {
   "cell_type": "code",
   "execution_count": 232,
   "metadata": {},
   "outputs": [
    {
     "name": "stderr",
     "output_type": "stream",
     "text": [
      "c:\\program files\\python36\\lib\\site-packages\\ipykernel_launcher.py:1: UserWarning: Output \"custom_final_loss_layer_18\" missing from loss dictionary. We assume this was done on purpose, and we will not be expecting any data to be passed to \"custom_final_loss_layer_18\" during training.\n",
      "  \"\"\"Entry point for launching an IPython kernel.\n"
     ]
    }
   ],
   "source": [
    "model.compile('adam', None, ['accuracy'])"
   ]
  },
  {
   "cell_type": "code",
   "execution_count": 234,
   "metadata": {
    "scrolled": true
   },
   "outputs": [
    {
     "name": "stdout",
     "output_type": "stream",
     "text": [
      "Processed 0 of 10000\n",
      "Processed 250 of 10000\n",
      "Processed 500 of 10000\n",
      "Processed 750 of 10000\n",
      "Processed 1000 of 10000\n",
      "Processed 1250 of 10000\n",
      "Processed 1500 of 10000\n",
      "Processed 1750 of 10000\n",
      "Processed 2000 of 10000\n",
      "Processed 2250 of 10000\n",
      "Processed 2500 of 10000\n",
      "Processed 2750 of 10000\n",
      "Processed 3000 of 10000\n",
      "Processed 3250 of 10000\n",
      "Processed 3500 of 10000\n",
      "Processed 3750 of 10000\n",
      "Processed 4000 of 10000\n",
      "Processed 4250 of 10000\n",
      "Processed 4500 of 10000\n",
      "Processed 4750 of 10000\n",
      "Processed 5000 of 10000\n",
      "Processed 5250 of 10000\n",
      "Processed 5500 of 10000\n",
      "Processed 5750 of 10000\n",
      "Processed 6000 of 10000\n",
      "Processed 6250 of 10000\n",
      "Processed 6500 of 10000\n",
      "Processed 6750 of 10000\n",
      "Processed 7000 of 10000\n",
      "Processed 7250 of 10000\n",
      "Processed 7500 of 10000\n",
      "Processed 7750 of 10000\n",
      "Processed 8000 of 10000\n",
      "Processed 8250 of 10000\n",
      "Processed 8500 of 10000\n",
      "Processed 8750 of 10000\n",
      "Processed 9000 of 10000\n",
      "Processed 9250 of 10000\n",
      "Processed 9500 of 10000\n",
      "Processed 9750 of 10000\n",
      "Processed 0 of 10000\n",
      "Processed 250 of 10000\n",
      "Processed 500 of 10000\n",
      "Processed 750 of 10000\n",
      "Processed 1000 of 10000\n",
      "Processed 1250 of 10000\n",
      "Processed 1500 of 10000\n",
      "Processed 1750 of 10000\n",
      "Processed 2000 of 10000\n",
      "Processed 2250 of 10000\n",
      "Processed 2500 of 10000\n",
      "Processed 2750 of 10000\n",
      "Processed 3000 of 10000\n",
      "Processed 3250 of 10000\n",
      "Processed 3500 of 10000\n",
      "Processed 3750 of 10000\n",
      "Processed 4000 of 10000\n",
      "Processed 4250 of 10000\n",
      "Processed 4500 of 10000\n",
      "Processed 4750 of 10000\n",
      "Processed 5000 of 10000\n",
      "Processed 5250 of 10000\n",
      "Processed 5500 of 10000\n",
      "Processed 5750 of 10000\n",
      "Processed 6000 of 10000\n",
      "Processed 6250 of 10000\n",
      "Processed 6500 of 10000\n",
      "Processed 6750 of 10000\n",
      "Processed 7000 of 10000\n",
      "Processed 7250 of 10000\n",
      "Processed 7500 of 10000\n",
      "Processed 7750 of 10000\n",
      "Processed 8000 of 10000\n",
      "Processed 8250 of 10000\n",
      "Processed 8500 of 10000\n",
      "Processed 8750 of 10000\n",
      "Processed 9000 of 10000\n",
      "Processed 9250 of 10000\n",
      "Processed 9500 of 10000\n",
      "Processed 9750 of 10000\n",
      "Processed 0 of 10000\n",
      "Processed 250 of 10000\n",
      "Processed 500 of 10000\n",
      "Processed 750 of 10000\n",
      "Processed 1000 of 10000\n",
      "Processed 1250 of 10000\n",
      "Processed 1500 of 10000\n",
      "Processed 1750 of 10000\n",
      "Processed 2000 of 10000\n",
      "Processed 2250 of 10000\n",
      "Processed 2500 of 10000\n",
      "Processed 2750 of 10000\n",
      "Processed 3000 of 10000\n",
      "Processed 3250 of 10000\n",
      "Processed 3500 of 10000\n",
      "Processed 3750 of 10000\n",
      "Processed 4000 of 10000\n",
      "Processed 4250 of 10000\n",
      "Processed 4500 of 10000\n",
      "Processed 4750 of 10000\n",
      "Processed 5000 of 10000\n",
      "Processed 5250 of 10000\n",
      "Processed 5500 of 10000\n",
      "Processed 5750 of 10000\n",
      "Processed 6000 of 10000\n",
      "Processed 6250 of 10000\n",
      "Processed 6500 of 10000\n",
      "Processed 6750 of 10000\n",
      "Processed 7000 of 10000\n",
      "Processed 7250 of 10000\n",
      "Processed 7500 of 10000\n",
      "Processed 7750 of 10000\n",
      "Processed 8000 of 10000\n",
      "Processed 8250 of 10000\n",
      "Processed 8500 of 10000\n",
      "Processed 8750 of 10000\n",
      "Processed 9000 of 10000\n",
      "Processed 9250 of 10000\n",
      "Processed 9500 of 10000\n",
      "Processed 9750 of 10000\n"
     ]
    }
   ],
   "source": [
    "positive_images, positive_labels, negative_images, negative_labels = get_trainset_list(15000, 15000)\n",
    "\n",
    "anchors_positive = positive_images[:5000]\n",
    "anchors_negative = negative_images[:5000]\n",
    "anchors = np.concatenate((anchors_positive, anchors_negative), axis=0)\n",
    "\n",
    "positive_positive = positive_images[5000:10000]\n",
    "positive_negative = negative_images[5000:10000]\n",
    "positive_samples = np.concatenate((positive_positive, positive_negative), axis=0)\n",
    "\n",
    "negative_positive = positive_images[10000:]\n",
    "negative_negative = negative_images[10000:]\n",
    "negative_samples = np.concatenate((negative_positive, negative_negative), axis=0)\n",
    "\n",
    "anchors_labels = np.concatenate((positive_labels[:5000], negative_labels[:5000]))\n",
    "\n",
    "indices = list(range(len(anchors)))\n",
    "\n",
    "random.shuffle(indices)\n",
    "\n",
    "anchors = np.expand_dims(prep_data(anchors[indices]), axis=3)\n",
    "positive_samples = np.expand_dims(prep_data(positive_samples[indices]), axis=3)\n",
    "negative_samples = np.expand_dims(prep_data(negative_samples[indices]), axis=3)\n",
    "anchors_labels = np.asarray(list(map(lambda x: int(x), anchors_labels[indices])))\n"
   ]
  },
  {
   "cell_type": "code",
   "execution_count": 235,
   "metadata": {
    "scrolled": true
   },
   "outputs": [
    {
     "name": "stdout",
     "output_type": "stream",
     "text": [
      "Epoch 1/40\n",
      "10000/10000 [==============================] - 19s 2ms/step - loss: 0.4881\n",
      "Epoch 2/40\n",
      "10000/10000 [==============================] - 18s 2ms/step - loss: 0.1634\n",
      "Epoch 3/40\n",
      "10000/10000 [==============================] - 20s 2ms/step - loss: 0.1308\n",
      "Epoch 4/40\n",
      "10000/10000 [==============================] - 20s 2ms/step - loss: 0.1089\n",
      "Epoch 5/40\n",
      "10000/10000 [==============================] - 21s 2ms/step - loss: 0.0923\n",
      "Epoch 6/40\n",
      "10000/10000 [==============================] - 21s 2ms/step - loss: 0.0840\n",
      "Epoch 7/40\n",
      "10000/10000 [==============================] - 21s 2ms/step - loss: 0.0774\n",
      "Epoch 8/40\n",
      "10000/10000 [==============================] - 22s 2ms/step - loss: 0.0719\n",
      "Epoch 9/40\n",
      "10000/10000 [==============================] - 22s 2ms/step - loss: 0.0670\n",
      "Epoch 10/40\n",
      "10000/10000 [==============================] - 22s 2ms/step - loss: 0.0634\n",
      "Epoch 11/40\n",
      "10000/10000 [==============================] - 22s 2ms/step - loss: 0.0605\n",
      "Epoch 12/40\n",
      "10000/10000 [==============================] - 22s 2ms/step - loss: 0.0584\n",
      "Epoch 13/40\n",
      "10000/10000 [==============================] - 22s 2ms/step - loss: 0.0570\n",
      "Epoch 14/40\n",
      "10000/10000 [==============================] - 22s 2ms/step - loss: 0.0561\n",
      "Epoch 15/40\n",
      "10000/10000 [==============================] - 22s 2ms/step - loss: 0.0546\n",
      "Epoch 16/40\n",
      "10000/10000 [==============================] - 22s 2ms/step - loss: 0.0531\n",
      "Epoch 17/40\n",
      "10000/10000 [==============================] - 22s 2ms/step - loss: 0.0525\n",
      "Epoch 18/40\n",
      "10000/10000 [==============================] - 23s 2ms/step - loss: 0.0513\n",
      "Epoch 19/40\n",
      "10000/10000 [==============================] - 22s 2ms/step - loss: 0.0510\n",
      "Epoch 20/40\n",
      "10000/10000 [==============================] - 23s 2ms/step - loss: 0.0500\n",
      "Epoch 21/40\n",
      "10000/10000 [==============================] - 23s 2ms/step - loss: 0.0500\n",
      "Epoch 22/40\n",
      "10000/10000 [==============================] - 23s 2ms/step - loss: 0.0485\n",
      "Epoch 23/40\n",
      "10000/10000 [==============================] - 23s 2ms/step - loss: 0.0484\n",
      "Epoch 24/40\n",
      "10000/10000 [==============================] - 23s 2ms/step - loss: 0.0480\n",
      "Epoch 25/40\n",
      "10000/10000 [==============================] - 23s 2ms/step - loss: 0.0479\n",
      "Epoch 26/40\n",
      "10000/10000 [==============================] - 22s 2ms/step - loss: 0.0465\n",
      "Epoch 27/40\n",
      "10000/10000 [==============================] - 22s 2ms/step - loss: 0.0464\n",
      "Epoch 28/40\n",
      "10000/10000 [==============================] - 23s 2ms/step - loss: 0.0467\n",
      "Epoch 29/40\n",
      "10000/10000 [==============================] - 22s 2ms/step - loss: 0.0457\n",
      "Epoch 30/40\n",
      "10000/10000 [==============================] - 22s 2ms/step - loss: 0.0453\n",
      "Epoch 31/40\n",
      "10000/10000 [==============================] - 23s 2ms/step - loss: 0.0447\n",
      "Epoch 32/40\n",
      "10000/10000 [==============================] - 22s 2ms/step - loss: 0.0449\n",
      "Epoch 33/40\n",
      "10000/10000 [==============================] - 22s 2ms/step - loss: 0.0448\n",
      "Epoch 34/40\n",
      "10000/10000 [==============================] - 23s 2ms/step - loss: 0.0448\n",
      "Epoch 35/40\n",
      "10000/10000 [==============================] - 23s 2ms/step - loss: 0.0443\n",
      "Epoch 36/40\n",
      "10000/10000 [==============================] - 22s 2ms/step - loss: 0.0438\n",
      "Epoch 37/40\n",
      "10000/10000 [==============================] - 23s 2ms/step - loss: 0.0437\n",
      "Epoch 38/40\n",
      "10000/10000 [==============================] - 23s 2ms/step - loss: 0.0433\n",
      "Epoch 39/40\n",
      "10000/10000 [==============================] - 23s 2ms/step - loss: 0.0430\n",
      "Epoch 40/40\n",
      "10000/10000 [==============================] - 23s 2ms/step - loss: 0.0434\n"
     ]
    },
    {
     "data": {
      "text/plain": [
       "<keras.callbacks.History at 0x1909e88a898>"
      ]
     },
     "execution_count": 235,
     "metadata": {},
     "output_type": "execute_result"
    }
   ],
   "source": [
    "model.fit(x=[anchors, positive_samples, negative_samples, to_categorical(anchors_labels)], batch_size=50, epochs=40)"
   ]
  },
  {
   "cell_type": "code",
   "execution_count": 236,
   "metadata": {},
   "outputs": [
    {
     "name": "stdout",
     "output_type": "stream",
     "text": [
      "(10000, 36, 36, 1)\n",
      "(10000, 36, 36, 1)\n",
      "(10000, 36, 36, 1)\n",
      "(10000,)\n"
     ]
    }
   ],
   "source": [
    "print(anchors.shape) \n",
    "print(positive_samples.shape) \n",
    "print(negative_samples.shape)\n",
    "print(anchors_labels.shape)"
   ]
  },
  {
   "cell_type": "code",
   "execution_count": 76,
   "metadata": {},
   "outputs": [
    {
     "name": "stdout",
     "output_type": "stream",
     "text": [
      "__________________________________________________________________________________________________\n",
      "Layer (type)                    Output Shape         Param #     Connected to                     \n",
      "==================================================================================================\n",
      "input_60 (InputLayer)           (None, 36, 36, 1)    0                                            \n",
      "__________________________________________________________________________________________________\n",
      "input_61 (InputLayer)           (None, 36, 36, 1)    0                                            \n",
      "__________________________________________________________________________________________________\n",
      "input_62 (InputLayer)           (None, 36, 36, 1)    0                                            \n",
      "__________________________________________________________________________________________________\n",
      "encoder (Model)                 (None, 162)          178         input_60[0][0]                   \n",
      "                                                                 input_61[0][0]                   \n",
      "                                                                 input_62[0][0]                   \n",
      "__________________________________________________________________________________________________\n",
      "custom_distance_loss_layer_11 ( [(None, 162), (None, 0           encoder[1][0]                    \n",
      "                                                                 encoder[2][0]                    \n",
      "                                                                 encoder[3][0]                    \n",
      "__________________________________________________________________________________________________\n",
      "input_63 (InputLayer)           (None, 1)            0                                            \n",
      "__________________________________________________________________________________________________\n",
      "decoder (Model)                 (None, 36, 36, 1)    127         custom_distance_loss_layer_11[0][\n",
      "__________________________________________________________________________________________________\n",
      "dense_11 (Dense)                (None, 2)            326         custom_distance_loss_layer_11[0][\n",
      "__________________________________________________________________________________________________\n",
      "custom_final_loss_layer_7 (Cust [(None, 36, 36, 1),  0           input_60[0][0]                   \n",
      "                                                                 input_63[0][0]                   \n",
      "                                                                 decoder[1][0]                    \n",
      "                                                                 dense_11[0][0]                   \n",
      "==================================================================================================\n",
      "Total params: 631\n",
      "Trainable params: 631\n",
      "Non-trainable params: 0\n",
      "__________________________________________________________________________________________________\n"
     ]
    }
   ],
   "source": [
    "model.summary()"
   ]
  },
  {
   "cell_type": "code",
   "execution_count": 75,
   "metadata": {},
   "outputs": [
    {
     "name": "stdout",
     "output_type": "stream",
     "text": [
      "False\n",
      "False\n",
      "False\n",
      "False\n"
     ]
    }
   ],
   "source": [
    "print(np.isnan(anchors).any()) \n",
    "print(np.isnan(positive_samples).any()) \n",
    "print(np.isnan(negative_samples).any())\n",
    "print(np.isnan(anchors_labels).any())"
   ]
  },
  {
   "cell_type": "code",
   "execution_count": 227,
   "metadata": {},
   "outputs": [
    {
     "data": {
      "text/plain": [
       "array([1, 0])"
      ]
     },
     "execution_count": 227,
     "metadata": {},
     "output_type": "execute_result"
    }
   ],
   "source": [
    "anchors_labels[4]"
   ]
  },
  {
   "cell_type": "code",
   "execution_count": 147,
   "metadata": {},
   "outputs": [],
   "source": [
    "import matplotlib.pyplot as plt"
   ]
  },
  {
   "cell_type": "code",
   "execution_count": 238,
   "metadata": {},
   "outputs": [
    {
     "data": {
      "image/png": "[encoded data removed]",
      "text/plain": [
       "<matplotlib.figure.Figure at 0x190932ad9b0>"
      ]
     },
     "metadata": {},
     "output_type": "display_data"
    },
    {
     "data": {
      "image/png": "[encoded data removed]",
      "text/plain": [
       "<matplotlib.figure.Figure at 0x190a1bcd710>"
      ]
     },
     "metadata": {},
     "output_type": "display_data"
    },
    {
     "data": {
      "image/png": "[encoded data removed]",
      "text/plain": [
       "<matplotlib.figure.Figure at 0x1909ec8cf60>"
      ]
     },
     "metadata": {},
     "output_type": "display_data"
    },
    {
     "data": {
      "image/png": "[encoded data removed]",
      "text/plain": [
       "<matplotlib.figure.Figure at 0x190a1ee0cc0>"
      ]
     },
     "metadata": {},
     "output_type": "display_data"
    },
    {
     "data": {
      "image/png": "[encoded data removed]",
      "text/plain": [
       "<matplotlib.figure.Figure at 0x190a1f67780>"
      ]
     },
     "metadata": {},
     "output_type": "display_data"
    },
    {
     "data": {
      "image/png": "[encoded data removed]",
      "text/plain": [
       "<matplotlib.figure.Figure at 0x190a202feb8>"
      ]
     },
     "metadata": {},
     "output_type": "display_data"
    },
    {
     "data": {
      "image/png": "[encoded data removed]",
      "text/plain": [
       "<matplotlib.figure.Figure at 0x190a207af28>"
      ]
     },
     "metadata": {},
     "output_type": "display_data"
    },
    {
     "data": {
      "image/png": "[encoded data removed]",
      "text/plain": [
       "<matplotlib.figure.Figure at 0x190a2143cf8>"
      ]
     },
     "metadata": {},
     "output_type": "display_data"
    },
    {
     "data": {
      "image/png": "[encoded data removed]",
      "text/plain": [
       "<matplotlib.figure.Figure at 0x190a21d1d68>"
      ]
     },
     "metadata": {},
     "output_type": "display_data"
    },
    {
     "data": {
      "image/png": "[encoded data removed]",
      "text/plain": [
       "<matplotlib.figure.Figure at 0x190a2215ef0>"
      ]
     },
     "metadata": {},
     "output_type": "display_data"
    }
   ],
   "source": [
    "for i in range(10):\n",
    "    plt.imshow(anchors[i, :, :, 0])\n",
    "    plt.show()"
   ]
  },
  {
   "cell_type": "code",
   "execution_count": 257,
   "metadata": {},
   "outputs": [],
   "source": [
    "encoding = encoder.predict(anchors[3:4])"
   ]
  },
  {
   "cell_type": "code",
   "execution_count": 258,
   "metadata": {},
   "outputs": [],
   "source": [
    "decoded = decoder.predict(encoding)"
   ]
  },
  {
   "cell_type": "code",
   "execution_count": 259,
   "metadata": {},
   "outputs": [
    {
     "data": {
      "image/png": "[encoded data removed]",
      "text/plain": [
       "<matplotlib.figure.Figure at 0x190a20b6a90>"
      ]
     },
     "metadata": {},
     "output_type": "display_data"
    }
   ],
   "source": [
    "plt.imshow(decoded[0, :, :, 0])\n",
    "plt.show()"
   ]
  },
  {
   "cell_type": "code",
   "execution_count": 260,
   "metadata": {
    "scrolled": true
   },
   "outputs": [
    {
     "data": {
      "text/plain": [
       "array([[  9.99998331e-01,   1.62542028e-06],\n",
       "       [  8.53027089e-08,   9.99999881e-01],\n",
       "       [  4.25168313e-03,   9.95748341e-01],\n",
       "       [  9.99446571e-01,   5.53441583e-04],\n",
       "       [  9.99869943e-01,   1.29985696e-04],\n",
       "       [  9.40639496e-01,   5.93605414e-02],\n",
       "       [  7.57064189e-09,   1.00000000e+00],\n",
       "       [  3.22318166e-01,   6.77681863e-01],\n",
       "       [  9.99999523e-01,   5.33619414e-07],\n",
       "       [  5.24767302e-03,   9.94752288e-01]], dtype=float32)"
      ]
     },
     "execution_count": 260,
     "metadata": {},
     "output_type": "execute_result"
    }
   ],
   "source": [
    "model.predict([anchors[0:10], np.zeros((10, 36, 36, 1)), np.zeros((10, 36, 36, 1)), np.zeros((10,2))])"
   ]
  },
  {
   "cell_type": "code",
   "execution_count": 270,
   "metadata": {},
   "outputs": [],
   "source": [
    "encoding_p1 = encoder.predict(anchors[1:2])\n",
    "encoding_p2 = encoder.predict(anchors[1:2])\n",
    "encoding_n1 = encoder.predict(anchors[:10])"
   ]
  },
  {
   "cell_type": "code",
   "execution_count": 271,
   "metadata": {},
   "outputs": [],
   "source": [
    "from scipy.spatial.distance import cosine"
   ]
  },
  {
   "cell_type": "code",
   "execution_count": 272,
   "metadata": {},
   "outputs": [
    {
     "name": "stdout",
     "output_type": "stream",
     "text": [
      "0.160266280174\n",
      "0.0\n",
      "0.18865776062\n",
      "0.255438923836\n",
      "0.171914160252\n",
      "0.290135502815\n",
      "0.197115838528\n",
      "0.139010250568\n",
      "0.223371505737\n",
      "0.126053214073\n"
     ]
    }
   ],
   "source": [
    "for i in range(10):\n",
    "    print(cosine(encoding_p1, encoding_n1[i]))"
   ]
  },
  {
   "cell_type": "code",
   "execution_count": 262,
   "metadata": {},
   "outputs": [
    {
     "data": {
      "text/plain": [
       "array([[ 1.,  0.],\n",
       "       [ 0.,  1.],\n",
       "       [ 0.,  1.],\n",
       "       [ 1.,  0.],\n",
       "       [ 1.,  0.],\n",
       "       [ 1.,  0.],\n",
       "       [ 0.,  1.],\n",
       "       [ 0.,  1.],\n",
       "       [ 1.,  0.],\n",
       "       [ 0.,  1.]])"
      ]
     },
     "execution_count": 262,
     "metadata": {},
     "output_type": "execute_result"
    }
   ],
   "source": [
    "to_categorical(anchors_labels[:10])"
   ]
  },
  {
   "cell_type": "code",
   "execution_count": 263,
   "metadata": {},
   "outputs": [],
   "source": [
    "input_value = Input(shape=(36, 36, 1))\n",
    "output_value = fully_connected(encoder(input_value))\n",
    "model_to_save = Model(input_value, output_value)"
   ]
  },
  {
   "cell_type": "code",
   "execution_count": 264,
   "metadata": {},
   "outputs": [
    {
     "data": {
      "text/plain": [
       "array([[  9.99998331e-01,   1.62542028e-06],\n",
       "       [  8.53027089e-08,   9.99999881e-01],\n",
       "       [  4.25168313e-03,   9.95748341e-01],\n",
       "       [  9.99446571e-01,   5.53441583e-04],\n",
       "       [  9.99869943e-01,   1.29985696e-04],\n",
       "       [  9.40639496e-01,   5.93605414e-02],\n",
       "       [  7.57064189e-09,   1.00000000e+00],\n",
       "       [  3.22318166e-01,   6.77681863e-01],\n",
       "       [  9.99999523e-01,   5.33619414e-07],\n",
       "       [  5.24767302e-03,   9.94752288e-01]], dtype=float32)"
      ]
     },
     "execution_count": 264,
     "metadata": {},
     "output_type": "execute_result"
    }
   ],
   "source": [
    "model_to_save.predict(anchors[0:10])"
   ]
  },
  {
   "cell_type": "code",
   "execution_count": 273,
   "metadata": {},
   "outputs": [],
   "source": [
    "model_to_save.save('autoencoder_predictor.cnn')"
   ]
  },
  {
   "cell_type": "code",
   "execution_count": 274,
   "metadata": {},
   "outputs": [],
   "source": [
    "model.save('full_autoencoder.cnn')"
   ]
  },
  {
   "cell_type": "code",
   "execution_count": 275,
   "metadata": {},
   "outputs": [],
   "source": [
    "encoder.save('encoder.cnn')"
   ]
  },
  {
   "cell_type": "code",
   "execution_count": 276,
   "metadata": {},
   "outputs": [],
   "source": [
    "decoder.save('decoder.cnn')"
   ]
  },
  {
   "cell_type": "code",
   "execution_count": null,
   "metadata": {},
   "outputs": [],
   "source": []
  }
 ],
 "metadata": {
  "kernelspec": {
   "display_name": "Python 3",
   "language": "python",
   "name": "python3"
  },
  "language_info": {
   "codemirror_mode": {
    "name": "ipython",
    "version": 3
   },
   "file_extension": ".py",
   "mimetype": "text/x-python",
   "name": "python",
   "nbconvert_exporter": "python",
   "pygments_lexer": "ipython3",
   "version": "3.6.3"
  }
 },
 "nbformat": 4,
 "nbformat_minor": 2
}
